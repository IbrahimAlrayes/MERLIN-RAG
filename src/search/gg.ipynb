{
 "cells": [
  {
   "cell_type": "code",
   "execution_count": 14,
   "metadata": {},
   "outputs": [
    {
     "name": "stdout",
     "output_type": "stream",
     "text": [
      "6 hours ago ... For me, this is a new colonialism.\" Palestinians in the occupied West Bank on Tuesday voiced their disappointment in US President Donald Trump's ...\n",
      "\n",
      "... الفلسطينيين على الدفاع عن أنفسهم، ويمدّ إسرائيل بغطاء يمكن استخدامها لمواصلة اغتيال قادتهم. ... على تنفيذ الإصلاحات الأمنية والإدارية في فلسطين ...\n",
      "\n",
      "ابقَ على اطلاعٍ مع أحدث التحديثات حول أخبار فلسطين اليوم من قبل الجزيرة. استكشف المقالات العميقة والتحليلات وأخبار اللحظة، برعاية فريقنا المكرس من الصحفيين.\n",
      "\n",
      "وهي تعدّ جزءاً جوهرياً من الصراع العربي الإسرائيلي، وما نتج عنه من أزمات وحروب في منطقة الشرق الأوسط. يرتبط هذا النزاع بشكل جذري بنشوء الصهيونية والهجرة اليهودية ...\n",
      "\n",
      "Palestinian refugees rise up in Gaza , following a bloody Israeli raid on an Egyptian military camp in Gaza a day earlier. Demonstrations are held in towns, ...\n",
      "\n",
      "في يوم الأحد، أي في ذات اليوم الذي بدأت فيه موجة الاعتراف الدولي بالدولة الفلسطينية، انضمت الفرقة 36 في جيش الاحتلال الإسرائيلي إلى الفرقة 98 و162، في هجومها على مدينة غزة، ضمن عملية \"عربات ...\n",
      "\n",
      "وأعقبت الأعمال ... 1974، أكدت الجمعية العامة من جديد على حقوق الشعب الفلسطيني غير القابلة للتصرف في تقرير المصير والاستقلال الوطني والسيادة والعودة...\n",
      "\n",
      "مصر لم و لن تكون بوابة لتصفية القضية الفلسطينية و سنستمر في دعم صمود الشعب الفلسطيني الأبي المتشبث بترابه الوطني و لن نكون أبدا شركاء بنكبة جديدة.\".\n",
      "\n",
      "News & media website. The Truth in Real-Time About Palestine, Facts Mainstream Media Won't Show. Backup Account @eye.on.palestine2 Support the voice of ...\n",
      "\n",
      "يقدم هذا الكتاب تصورا جديدا لدولة الاحتلال من الداخل، نرى فيه الوجه الحقيقي للمجتمع الإسرائيلي بعيدا عن التزييف والتجميل، ويكشف بابيه الخلل الإستراتيجي الذي قامت ...\n",
      "[{'snippet': '6 hours ago ... For me, this is a new colonialism.\" Palestinians in the occupied West Bank on Tuesday voiced their disappointment in US President Donald Trump\\'s\\xa0...', 'title': '\"All the principles for the liberation of Palestine were cancelled ...', 'link': 'https://www.facebook.com/MiddleEastEye/videos/palestinians-in-occupied-west-bank-reject-trump-gaza-plan/790566133588074/', 'engines': ['google', 'startpage'], 'category': 'general'}, {'snippet': '... الفلسطينيين على الدفاع عن أنفسهم، ويمدّ إسرائيل بغطاء يمكن استخدامها لمواصلة اغتيال قادتهم. ... على تنفيذ الإصلاحات الأمنية والإدارية في فلسطين\\xa0...', 'title': 'خلافات بين حماس وإسرائيل حول خطة ترامب لوقف حرب غزة', 'link': 'https://www.wrfi.org/2018/12/13/whats-happening-with-the-asbestos-at-the-old-library-audio/', 'engines': ['startpage'], 'category': 'general'}, {'snippet': 'ابقَ على اطلاعٍ مع أحدث التحديثات حول أخبار فلسطين اليوم من قبل الجزيرة. استكشف المقالات العميقة والتحليلات وأخبار اللحظة، برعاية فريقنا المكرس من الصحفيين.', 'title': 'أخبار فلسطين اليوم | أخبار فلسطين اليوم | الجزيرة نت', 'link': 'https://www.aljazeera.net/palestine/', 'engines': ['duckduckgo'], 'category': 'general'}, {'snippet': \"News & media website. The Truth in Real-Time About Palestine, Facts Mainstream Media Won't Show. Backup Account @eye.on.palestine2 Support the voice of ...\", 'title': '\\u200e🇵🇸 عين على فلسطين | Eye on Palestine\\u200e (@ ...', 'link': 'https://www.instagram.com/eye.on.palestine/?hl=en', 'engines': ['google'], 'category': 'general'}, {'snippet': 'وهي تعدّ جزءاً جوهرياً من الصراع العربي الإسرائيلي، وما نتج عنه من أزمات وحروب في منطقة الشرق الأوسط. يرتبط هذا النزاع بشكل جذري بنشوء الصهيونية والهجرة اليهودية ...', 'title': 'القضية الفلسطينية - ويكيبيديا', 'link': 'https://ar.wikipedia.org/wiki/القضية_الفلسطينية', 'engines': ['brave'], 'category': 'general'}]\n"
     ]
    }
   ],
   "source": [
    "from langchain_community.utilities import SearxSearchWrapper\n",
    "s = SearxSearchWrapper(searx_host=\"http://localhost:8080\")\n",
    "query = \"فيه جديد عن القضيه الفلسطينيه\"\n",
    "print(s.run(query=query))\n",
    "print(s.results(query=query, num_results=5))"
   ]
  },
  {
   "cell_type": "code",
   "execution_count": 20,
   "metadata": {},
   "outputs": [],
   "source": [
    "import requests\n",
    "\n",
    "def fetch_urls_with_proxy(data, proxy_base=\"http://localhost:3001/\"):\n",
    "    \"\"\"\n",
    "    Fetches content for each URL in the given list using a proxy service.\n",
    "\n",
    "    Args:\n",
    "        data (list[dict]): List of dictionaries containing at least a 'link' key.\n",
    "        proxy_base (str): Base proxy URL to prepend before the target URL.\n",
    "\n",
    "    Returns:\n",
    "        list[dict]: Updated list where each dict includes 'content' with the response text.\n",
    "    \"\"\"\n",
    "    results = []\n",
    "    for item in data:\n",
    "        url = item.get(\"link\")\n",
    "        if not url:\n",
    "            item[\"content\"] = None\n",
    "            results.append(item)\n",
    "            continue\n",
    "\n",
    "        try:\n",
    "            # Construct the proxied request\n",
    "            proxied_url = proxy_base + url\n",
    "            resp = requests.get(proxied_url, timeout=10)\n",
    "\n",
    "            # Append the content to the dict\n",
    "            item[\"content\"] = resp.text if resp.status_code == 200 else f\"Error {resp.status_code}\"\n",
    "        except Exception as e:\n",
    "            item[\"content\"] = f\"Request failed: {e}\"\n",
    "\n",
    "        results.append(item)\n",
    "\n",
    "    return results\n"
   ]
  },
  {
   "cell_type": "code",
   "execution_count": 27,
   "metadata": {},
   "outputs": [
    {
     "name": "stdout",
     "output_type": "stream",
     "text": [
      "Request failed: HTTPConnectionPool(host='localhost', port=3001): Max retries exceeded with url: /https://www.example.com/ (Caused by NewConnectionError('<urllib3.connection.HTTPConnection object at 0x7f04c5e30990>: Failed to establish a new connection: [Errno 111] Connection refused'))\n"
     ]
    }
   ],
   "source": [
    "data = [\n",
    "    {\n",
    "        'snippet': 'example text',\n",
    "        'title': 'example title',\n",
    "        'link': 'https://www.example.com/',\n",
    "        'engines': ['duckduckgo'],\n",
    "        'category': 'general'\n",
    "    }\n",
    "]\n",
    "\n",
    "output = fetch_urls_with_proxy(data)\n",
    "print(output[0][\"content\"][:500])  # Print first 500 chars of the fetched content\n"
   ]
  },
  {
   "cell_type": "code",
   "execution_count": null,
   "metadata": {},
   "outputs": [],
   "source": []
  },
  {
   "cell_type": "code",
   "execution_count": null,
   "metadata": {},
   "outputs": [],
   "source": []
  },
  {
   "cell_type": "code",
   "execution_count": null,
   "metadata": {},
   "outputs": [],
   "source": []
  }
 ],
 "metadata": {
  "kernelspec": {
   "display_name": "research",
   "language": "python",
   "name": "python3"
  },
  "language_info": {
   "codemirror_mode": {
    "name": "ipython",
    "version": 3
   },
   "file_extension": ".py",
   "mimetype": "text/x-python",
   "name": "python",
   "nbconvert_exporter": "python",
   "pygments_lexer": "ipython3",
   "version": "3.11.13"
  }
 },
 "nbformat": 4,
 "nbformat_minor": 2
}
