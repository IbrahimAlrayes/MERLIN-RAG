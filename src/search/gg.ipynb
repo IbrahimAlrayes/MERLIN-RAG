{
 "cells": [
  {
   "cell_type": "code",
   "execution_count": 1,
   "metadata": {},
   "outputs": [
    {
     "name": "stdout",
     "output_type": "stream",
     "text": [
      "يقدم هذا الكتاب تصورا جديدا لدولة الاحتلال من الداخل، نرى فيه الوجه الحقيقي للمجتمع الإسرائيلي بعيدا عن التزييف والتجميل، ويكشف بابيه الخلل الإستراتيجي الذي قامت ...\n",
      "\n",
      "News & media website. The Truth in Real-Time About Palestine, Facts Mainstream Media Won't Show. Backup Account @eye.on.palestine2 Support the voice of ...\n",
      "\n",
      "أقر جيش الاحتلال الإسرائيلي بإصابة 5 من عناصره بجروح خطيرة اليوم الاثنين في مدينة غزة، في وقت خاضت فيه المقاومة اشتباكات عنيفة مع القوات المتوغلة غربي المدينة.\n",
      "\n",
      "13 hours ago ... For me, this is a new colonialism.\" Palestinians in the occupied West Bank on Tuesday voiced their disappointment in US President Donald Trump's ...\n",
      "\n",
      "وهي تعدّ جزءاً جوهرياً من الصراع العربي الإسرائيلي، وما نتج عنه من أزمات وحروب في منطقة الشرق الأوسط. يرتبط هذا النزاع بشكل جذري بنشوء الصهيونية والهجرة اليهودية ...\n",
      "\n",
      "Jan 2, 2025 — يواجه الفلسطينيون، مع بدء سنة 2025، حالة من عدم اليقين؛ فهم يأملون، في المقام الأول، بأن تتوقف حرب الإبادة التي تشنها إسرائيل على قطاع غزة، وأن ...\n",
      "\n",
      "كل ما يخص دولة فلسطين من أخبار في المجالات السياسية والاجتماعية، وعلاقاتها بدول الجوار والعالم.\n",
      "\n",
      "مصر لم و لن تكون بوابة لتصفية القضية الفلسطينية و سنستمر في دعم صمود الشعب الفلسطيني الأبي المتشبث بترابه الوطني و لن نكون أبدا شركاء بنكبة جديدة.\".\n",
      "\n",
      "وأعقبت الأعمال ... 1974، أكدت الجمعية العامة من جديد على حقوق الشعب الفلسطيني غير القابلة للتصرف في تقرير المصير والاستقلال الوطني والسيادة والعودة...\n",
      "\n",
      "إسرائيل تشيد مستوطنة جديدة في قلب بيت جالا لفصل القدس عن جنوب الضفة.. وخبراء يحذرون: 87% من بيت لحم باتت خارج السيطرة الفلسطينية #إسرائيل ...\n",
      "[{'snippet': \"News & media website. The Truth in Real-Time About Palestine, Facts Mainstream Media Won't Show. Backup Account @eye.on.palestine2 Support the voice of ...\", 'title': '\\u200e🇵🇸 عين على فلسطين | Eye on Palestine\\u200e (@ ...', 'link': 'https://www.instagram.com/eye.on.palestine/?hl=en', 'engines': ['google'], 'category': 'general'}, {'snippet': '13 hours ago ... For me, this is a new colonialism.\" Palestinians in the occupied West Bank on Tuesday voiced their disappointment in US President Donald Trump\\'s\\xa0...', 'title': '\"All the principles for the liberation of Palestine were cancelled ...', 'link': 'https://www.facebook.com/MiddleEastEye/videos/palestinians-in-occupied-west-bank-reject-trump-gaza-plan/790566133588074/', 'engines': ['startpage'], 'category': 'general'}, {'snippet': 'أقر جيش الاحتلال الإسرائيلي بإصابة 5 من عناصره بجروح خطيرة اليوم الاثنين في مدينة غزة، في وقت خاضت فيه المقاومة اشتباكات عنيفة مع القوات المتوغلة غربي المدينة.', 'title': 'أخبار فلسطين اليوم | أخبار فلسطين اليوم | الجزيرة نت', 'link': 'https://www.aljazeera.net/palestine/', 'engines': ['duckduckgo'], 'category': 'general'}, {'snippet': 'Jan 2, 2025 — يواجه الفلسطينيون، مع بدء سنة 2025، حالة من عدم اليقين؛ فهم يأملون، في المقام الأول، بأن تتوقف حرب الإبادة التي تشنها إسرائيل على قطاع غزة، وأن ...', 'title': 'What Future Awaits the Palestinians in 2025?', 'link': 'https://www.palestine-studies.org/en/node/1656641', 'engines': ['google'], 'category': 'general'}, {'snippet': 'مصر لم و لن تكون بوابة لتصفية القضية الفلسطينية و سنستمر في دعم صمود الشعب الفلسطيني الأبي المتشبث بترابه الوطني و لن نكون أبدا شركاء بنكبة جديدة.\".', 'title': 'State of Palestine (@Palestine_UN) / X', 'link': 'https://x.com/palestine_un', 'engines': ['startpage'], 'category': 'general'}]\n"
     ]
    }
   ],
   "source": [
    "from langchain_community.utilities import SearxSearchWrapper\n",
    "s = SearxSearchWrapper(searx_host=\"http://localhost:8080\")\n",
    "query = \"فيه جديد عن القضيه الفلسطينيه\"\n",
    "print(s.run(query=query))\n",
    "print(s.results(query=query, num_results=5))"
   ]
  },
  {
   "cell_type": "code",
   "execution_count": 2,
   "metadata": {},
   "outputs": [],
   "source": [
    "import requests\n",
    "\n",
    "def fetch_urls_with_proxy(data, proxy_base=\"http://localhost:3001/\"):\n",
    "    \"\"\"\n",
    "    Fetches content for each URL in the given list using a proxy service.\n",
    "\n",
    "    Args:\n",
    "        data (list[dict]): List of dictionaries containing at least a 'link' key.\n",
    "        proxy_base (str): Base proxy URL to prepend before the target URL.\n",
    "\n",
    "    Returns:\n",
    "        list[dict]: Updated list where each dict includes 'content' with the response text.\n",
    "    \"\"\"\n",
    "    results = []\n",
    "    for item in data:\n",
    "        url = item.get(\"link\")\n",
    "        if not url:\n",
    "            item[\"content\"] = None\n",
    "            results.append(item)\n",
    "            continue\n",
    "\n",
    "        try:\n",
    "            # Construct the proxied request\n",
    "            proxied_url = proxy_base + url\n",
    "            resp = requests.get(proxied_url, timeout=10)\n",
    "\n",
    "            # Append the content to the dict\n",
    "            item[\"content\"] = resp.text if resp.status_code == 200 else f\"Error {resp.status_code}\"\n",
    "        except Exception as e:\n",
    "            item[\"content\"] = f\"Request failed: {e}\"\n",
    "\n",
    "        results.append(item)\n",
    "\n",
    "    return results\n"
   ]
  },
  {
   "cell_type": "code",
   "execution_count": 5,
   "metadata": {},
   "outputs": [
    {
     "name": "stdout",
     "output_type": "stream",
     "text": [
      "Title: Example Domains\n",
      "\n",
      "URL Source: https://www.iana.org/domains/example\n",
      "\n",
      "Markdown Content:\n",
      "As described in [RFC 2606](https://www.iana.org/go/rfc2606) and [RFC 6761](https://www.iana.org/go/rfc6761), a number of domains such as example.com and example.org are maintained for documentation purposes. These domains may be used as illustrative examples in documents without prior coordination with us. They are not available for registration or transfer.\n",
      "\n",
      "We provide a web service on the example domain\n"
     ]
    }
   ],
   "source": [
    "data = [\n",
    "    {\n",
    "        'snippet': 'example text',\n",
    "        'title': 'example title',\n",
    "        'link': 'https://www.iana.org/domains/example',\n",
    "        'engines': ['duckduckgo'],\n",
    "        'category': 'general'\n",
    "    }\n",
    "]\n",
    "\n",
    "output = fetch_urls_with_proxy(data)\n",
    "print(output[0][\"content\"][:500])  # Print first 500 chars of the fetched content\n"
   ]
  }
 ],
 "metadata": {
  "kernelspec": {
   "display_name": "research",
   "language": "python",
   "name": "python3"
  },
  "language_info": {
   "codemirror_mode": {
    "name": "ipython",
    "version": 3
   },
   "file_extension": ".py",
   "mimetype": "text/x-python",
   "name": "python",
   "nbconvert_exporter": "python",
   "pygments_lexer": "ipython3",
   "version": "3.11.13"
  }
 },
 "nbformat": 4,
 "nbformat_minor": 2
}
